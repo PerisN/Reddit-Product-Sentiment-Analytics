{
 "cells": [
  {
   "cell_type": "code",
   "execution_count": null,
   "metadata": {},
   "outputs": [],
   "source": [
    "# Import libraries\n",
    "import pandas as pd\n",
    "import nltk\n",
    "from nltk.sentiment.vader import SentimentIntensityAnalyzer"
   ]
  },
  {
   "cell_type": "code",
   "execution_count": null,
   "metadata": {},
   "outputs": [],
   "source": [
    "nltk.download('vader_lexicon')"
   ]
  },
  {
   "cell_type": "code",
   "execution_count": null,
   "metadata": {},
   "outputs": [],
   "source": [
    "sia = SentimentIntensityAnalyzer()"
   ]
  },
  {
   "cell_type": "markdown",
   "metadata": {},
   "source": [
    "VADER (Valence Aware Dictionary and sEntiment Reasoner) is effective for analyzing sentiments expressed in social media and short text. It provides a compound score that reflects the overall sentiment."
   ]
  },
  {
   "cell_type": "code",
   "execution_count": null,
   "metadata": {},
   "outputs": [],
   "source": [
    "# Apply sentiment analysis\n",
    "df['sentiment'] = df['text'].apply(lambda x: sia.polarity_scores(x))\n",
    "\n",
    "# Extract compound score and determine sentiment category\n",
    "df['compound'] = df['sentiment'].apply(lambda x: x['compound'])\n",
    "df['sentiment_category'] = df['compound'].apply(lambda x: 'positive' if x > 0.05 else ('negative' if x < -0.05 else 'neutral'))\n",
    "\n",
    "# Display results\n",
    "print(df[['text', 'sentiment', 'compound', 'sentiment_category']])"
   ]
  }
 ],
 "metadata": {
  "kernelspec": {
   "display_name": "Reddit-Product-Sentiment-Analytics-qJyRK7cL",
   "language": "python",
   "name": "python3"
  },
  "language_info": {
   "name": "python",
   "version": "3.10.11"
  }
 },
 "nbformat": 4,
 "nbformat_minor": 2
}
